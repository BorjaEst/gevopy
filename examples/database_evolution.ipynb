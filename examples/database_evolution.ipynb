{
 "cells": [
  {
   "attachments": {},
   "cell_type": "markdown",
   "metadata": {},
   "source": [
    "#### Import dependencies and configure globals\n",
    "This example, shows how to use gevopy to evolve a simple Haploid genotype in order to obtain a phenotype with at least 10 ones in it's chromosome. In the process, all the phenotypes are stored inside a neo4j database.\n",
    "\n",
    "To do so, it is required to import gevopy and generate the Genotype, Fitness and Algorithm required. For the aim of simplicity, we will use some already defined examples from this library. Additionally it is required to import the class Neo4jInterface to specify the connection with our database.\n",
    "\n",
    "Additionally, you can use neo4j library to verify the connection and the logging module to increase the verbosity of the evolution process."
   ]
  },
  {
   "cell_type": "code",
   "execution_count": 1,
   "metadata": {},
   "outputs": [],
   "source": [
    "import logging\n",
    "\n",
    "from neo4j import GraphDatabase\n",
    "\n",
    "import gevopy as ea\n",
    "from examples.algorimths import BasicPonderated as MyAlgorithm\n",
    "from examples.evaluation import MostOnes as MyFitness\n",
    "from examples.genotypes import Bacteria as MyGenotype\n",
    "from gevopy.database import Neo4jInterface\n"
   ]
  },
  {
   "cell_type": "code",
   "execution_count": 2,
   "metadata": {},
   "outputs": [],
   "source": [
    "LOG_FORMAT = \"%(asctime)s - %(name)s - %(levelname)s\\n  %(message)s\"\n",
    "logging.basicConfig(level=\"INFO\", format=LOG_FORMAT)\n",
    "logger = logging.getLogger(\"gevopy.Experiment\")\n",
    "logger.setLevel(logging.INFO)  # Only Experiment INFO\n"
   ]
  },
  {
   "attachments": {},
   "cell_type": "markdown",
   "metadata": {},
   "source": [
    "#### Verify the database connection\n",
    "Connect to a database by creating a neo4j Driver object and providing a URL and an authentication token. Once you have a Driver instance, use the .verify_connectivity() method to ensure that a working connection can be established.\n"
   ]
  },
  {
   "cell_type": "code",
   "execution_count": 3,
   "metadata": {},
   "outputs": [],
   "source": [
    "# URI examples: \"neo4j://localhost\", \"neo4j+s://xxx.databases.neo4j.io\"\n",
    "URI = \"bolt:\"  # URI for Neo4j database\n",
    "AUTH = \"\"  # (Username, Password)\n",
    "\n",
    "with GraphDatabase.driver(URI, auth=AUTH) as driver:\n",
    "    driver.verify_connectivity()\n"
   ]
  },
  {
   "attachments": {},
   "cell_type": "markdown",
   "metadata": {},
   "source": [
    "### Create and run the experiment\n",
    "Execute an experiment by creating an instance and assigning the argument database with the driver. The experiment will automaticaly manage sessions and use the methods .execute_read and .execute_write.\n",
    "\n",
    "Use the experiment session as a normal example to evolve a Genotype. As minimalist example, add some phenotypes as a base and start the evolution by using .run method."
   ]
  },
  {
   "cell_type": "code",
   "execution_count": 4,
   "metadata": {},
   "outputs": [
    {
     "name": "stderr",
     "output_type": "stream",
     "text": [
      "2023-03-27 11:23:48,181 - gevopy.Experiment - INFO\n",
      "  [MyExperiment]: Experiment evolution phase:1 start\n",
      "2023-03-27 11:23:48,182 - gevopy.Experiment - INFO\n",
      "  [gen:0]: Start of evolutionary experiment execution\n",
      "2023-03-27 11:23:48,208 - gevopy.Experiment - INFO\n",
      "  [gen:1]: Completed cycle; 8\n",
      "2023-03-27 11:23:48,223 - gevopy.Experiment - INFO\n",
      "  [gen:2]: Completed cycle; 9\n",
      "2023-03-27 11:23:48,237 - gevopy.Experiment - INFO\n",
      "  [gen:3]: Completed cycle; 9\n",
      "2023-03-27 11:23:48,252 - gevopy.Experiment - INFO\n",
      "  [gen:4]: Completed cycle; 10\n",
      "2023-03-27 11:23:48,253 - gevopy.Experiment - INFO\n",
      "  [gen:4]: Experiment execution completed successfully\n"
     ]
    }
   ],
   "source": [
    "experiment = ea.Experiment(\n",
    "    database=Neo4jInterface(URI, auth=AUTH),\n",
    "    name=\"MyExperiment\",\n",
    ")\n",
    "\n",
    "with experiment.session() as session:\n",
    "    session.add_phenotypes([MyGenotype() for _ in range(12)])\n",
    "    session.algorithm = MyAlgorithm(survival_rate=0.2)\n",
    "    session.fitness = MyFitness(cache=True, scheduler=\"synchronous\")\n",
    "    session.logger.info(\"Experiment evolution phase:1 start\")\n",
    "    statistics = session.run(max_score=10)\n"
   ]
  },
  {
   "cell_type": "code",
   "execution_count": 5,
   "metadata": {},
   "outputs": [
    {
     "data": {
      "text/plain": [
       "Evolutionary algorithm execution report:\n",
       "  Executed generations: 4\n",
       "  Best phenotype: 00897083-f603-4b24-8d83-dff50af2b61a\n",
       "  Best score: 10"
      ]
     },
     "execution_count": 5,
     "metadata": {},
     "output_type": "execute_result"
    }
   ],
   "source": [
    "statistics\n"
   ]
  },
  {
   "attachments": {},
   "cell_type": "markdown",
   "metadata": {},
   "source": [
    "### Close connections\n",
    "Unless you created them using the with statement, call the .close method on all Driver and Session instances out of the experiment to release any resources still held by them."
   ]
  },
  {
   "cell_type": "code",
   "execution_count": 6,
   "metadata": {},
   "outputs": [],
   "source": [
    "experiment.close()\n"
   ]
  }
 ],
 "metadata": {
  "kernelspec": {
   "display_name": "Python 3.10.8 64-bit",
   "language": "python",
   "name": "python3"
  },
  "language_info": {
   "codemirror_mode": {
    "name": "ipython",
    "version": 3
   },
   "file_extension": ".py",
   "mimetype": "text/x-python",
   "name": "python",
   "nbconvert_exporter": "python",
   "pygments_lexer": "ipython3",
   "version": "3.10.10"
  },
  "orig_nbformat": 4,
  "vscode": {
   "interpreter": {
    "hash": "949777d72b0d2535278d3dc13498b2535136f6dfe0678499012e853ee9abcab1"
   }
  }
 },
 "nbformat": 4,
 "nbformat_minor": 2
}
