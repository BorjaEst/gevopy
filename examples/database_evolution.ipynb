{
 "cells": [
  {
   "cell_type": "code",
   "execution_count": 1,
   "metadata": {},
   "outputs": [],
   "source": [
    "import logging\n",
    "\n",
    "from neo4j import GraphDatabase\n",
    "\n",
    "import gevopy as ea\n",
    "from examples.algorimths import BasicPonderated as MyAlgorithm\n",
    "from examples.evaluation import MostOnes as MyFitness\n",
    "from examples.genotypes import Bacteria as MyGenotype\n",
    "from gevopy.database import Neo4jInterface\n"
   ]
  },
  {
   "cell_type": "markdown",
   "metadata": {},
   "source": []
  },
  {
   "cell_type": "code",
   "execution_count": 2,
   "metadata": {},
   "outputs": [],
   "source": [
    "LOG_FORMAT = \"%(asctime)s - %(name)s - %(levelname)s\\n  %(message)s\"\n",
    "logging.basicConfig(level=\"INFO\", format=LOG_FORMAT)\n",
    "logger = logging.getLogger(\"gevopy.Experiment\")\n",
    "logger.setLevel(logging.INFO)  # Only Experiment INFO\n"
   ]
  },
  {
   "cell_type": "markdown",
   "metadata": {},
   "source": [
    "#### Connect to the database\n",
    "Connect to a database by creating a Driver object and providing a URL and an authentication token. Once you have a Driver instance, use the .verify_connectivity() method to ensure that a working connection can be established.\n"
   ]
  },
  {
   "cell_type": "code",
   "execution_count": 3,
   "metadata": {},
   "outputs": [],
   "source": [
    "# URI examples: \"neo4j://localhost\", \"neo4j+s://xxx.databases.neo4j.io\"\n",
    "URI = \"bolt:\"  # \"<URI for Neo4j database>\"\n",
    "AUTH = \"\"  # (\"<Username>\", \"<Password>\")\n",
    "\n",
    "with GraphDatabase.driver(URI, auth=AUTH) as driver:\n",
    "    driver.verify_connectivity()\n"
   ]
  },
  {
   "cell_type": "markdown",
   "metadata": {},
   "source": [
    "### Create and run the experiment\n",
    "Execute an experiment by creating an instance and assigning the argument database with the driver. The experiment will automaticaly manage sessions and use the methods execute_read() and execute_write()."
   ]
  },
  {
   "cell_type": "code",
   "execution_count": 4,
   "metadata": {},
   "outputs": [
    {
     "name": "stderr",
     "output_type": "stream",
     "text": [
      "2022-12-15 08:12:53,980 - gevopy.Experiment - INFO\n",
      "  [12bb1dc6-4cd7-4f5c-a0a5-cdc5310f9f1c]: [gen:0]: Start of evolutionary experiment execution\n",
      "2022-12-15 08:12:54,025 - gevopy.Experiment - INFO\n",
      "  [12bb1dc6-4cd7-4f5c-a0a5-cdc5310f9f1c]: [gen:1]: Completed cycle; 9\n",
      "2022-12-15 08:12:54,055 - gevopy.Experiment - INFO\n",
      "  [12bb1dc6-4cd7-4f5c-a0a5-cdc5310f9f1c]: [gen:2]: Completed cycle; 9\n",
      "2022-12-15 08:12:54,091 - gevopy.Experiment - INFO\n",
      "  [12bb1dc6-4cd7-4f5c-a0a5-cdc5310f9f1c]: [gen:3]: Completed cycle; 9\n",
      "2022-12-15 08:12:54,121 - gevopy.Experiment - INFO\n",
      "  [12bb1dc6-4cd7-4f5c-a0a5-cdc5310f9f1c]: [gen:4]: Completed cycle; 9\n",
      "2022-12-15 08:12:54,153 - gevopy.Experiment - INFO\n",
      "  [12bb1dc6-4cd7-4f5c-a0a5-cdc5310f9f1c]: [gen:5]: Completed cycle; 10\n",
      "2022-12-15 08:12:54,154 - gevopy.Experiment - INFO\n",
      "  [12bb1dc6-4cd7-4f5c-a0a5-cdc5310f9f1c]: [gen:5]: Experiment execution completed successfully\n"
     ]
    }
   ],
   "source": [
    "experiment = ea.Experiment(\n",
    "    fitness=MyFitness(cache=True, scheduler=\"synchronous\"),\n",
    "    algorithm=MyAlgorithm(survival_rate=0.2),\n",
    "    database=Neo4jInterface(URI, auth=AUTH),\n",
    ")\n",
    "\n",
    "with experiment.session() as session:\n",
    "    session.add_phenotypes([MyGenotype() for _ in range(12)])\n",
    "    statistics = session.run(max_score=10)\n"
   ]
  },
  {
   "cell_type": "code",
   "execution_count": 5,
   "metadata": {},
   "outputs": [
    {
     "data": {
      "text/plain": [
       "Evolutionary algorithm execution report:\n",
       "  Executed generations: 5\n",
       "  Best phenotype: 9d028152-4339-4a11-8b1b-918b3671afb3\n",
       "  Best score: 10"
      ]
     },
     "execution_count": 5,
     "metadata": {},
     "output_type": "execute_result"
    }
   ],
   "source": [
    "statistics\n"
   ]
  },
  {
   "cell_type": "markdown",
   "metadata": {},
   "source": [
    "### Close connections\n",
    "Unless you created them using the with statement, call the .close() method on all Driver and Session instances out of the experiment to release any resources still held by them."
   ]
  },
  {
   "cell_type": "code",
   "execution_count": 6,
   "metadata": {},
   "outputs": [],
   "source": [
    "experiment.close()\n"
   ]
  }
 ],
 "metadata": {
  "kernelspec": {
   "display_name": "Python 3.10.8 64-bit",
   "language": "python",
   "name": "python3"
  },
  "language_info": {
   "codemirror_mode": {
    "name": "ipython",
    "version": 3
   },
   "file_extension": ".py",
   "mimetype": "text/x-python",
   "name": "python",
   "nbconvert_exporter": "python",
   "pygments_lexer": "ipython3",
   "version": "3.10.8"
  },
  "orig_nbformat": 4,
  "vscode": {
   "interpreter": {
    "hash": "949777d72b0d2535278d3dc13498b2535136f6dfe0678499012e853ee9abcab1"
   }
  }
 },
 "nbformat": 4,
 "nbformat_minor": 2
}
